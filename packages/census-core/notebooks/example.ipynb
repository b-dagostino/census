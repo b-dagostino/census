{
 "cells": [
  {
   "cell_type": "code",
   "execution_count": 1,
   "metadata": {},
   "outputs": [],
   "source": [
    "import pandas as pd"
   ]
  },
  {
   "cell_type": "code",
   "execution_count": 1,
   "metadata": {},
   "outputs": [],
   "source": [
    "# First, import the module corresponding to the desired census product.\n",
    "# For example, let's import the ACS 1-year detailed tables.\n",
    "import census_products.acs.acs1 as acs1\n",
    "# NOTE: don't be afraid to use autocomplete to help find available census products!\n",
    "\n",
    "# Individual datasets within a product can be selected by indexing the imported module by year, like so:\n",
    "dataset = acs1[2022]\n",
    "# NOTE: some datasets (like time series datasets) don't have a year.\n",
    "# Index these using the None key, or calling the module without arguments. (e.g., acs1[None], acs1())"
   ]
  },
  {
   "cell_type": "code",
   "execution_count": null,
   "metadata": {},
   "outputs": [],
   "source": [
    "# Alternatively, you can import the desired dataset directly from the module.\n",
    "from census_products.acs.acs1 import AcsAcs1_2022 as dataset\n",
    "\n",
    "# The docstring of each dataset contains some metadata about it.\n",
    "# If the dataset was imported directly from a module, most IDEs should be able to show it directly.\n",
    "# Try hovering your mouse over the following statement:\n",
    "dataset\n",
    "\n",
    "# Alternatively, each dataset has properties corresponding to its metadata.\n",
    "display(f\"Title: {dataset.title}\")\n",
    "display(f\"Description: {dataset.description}\")\n",
    "display(f\"Vintage: {dataset.vintage}\")\n",
    "display(f\"API Endpoint: {dataset.api_endpoint}\")"
   ]
  },
  {
   "cell_type": "code",
   "execution_count": null,
   "metadata": {},
   "outputs": [],
   "source": [
    "# You probably wan't to query the dataset at some point, so call the dataset to return a query builder for it.\n",
    "dataset_query_builder = dataset()\n",
    "\n",
    "# Queries are built by chaining calls to the 'variables', 'for_', and 'in_' methods.\n",
    "# For example, let's build a query to retrieve the male, female, and total populations of each state.\n",
    "dataset_query_builder.variables(\"B01001_002E\", \"B01001_026E\", \"B01001_001E\").for_((\"state\", \"*\"))\n",
    "\n",
    "# Execute the query by calling the builder object\n",
    "dataset_query_builder()\n",
    "# NOTE: you can also used the \"query()\" method (e.g., dataset_query_builder.query())\n",
    "\n",
    "# The examples above are actually more verbose than necessary;\n",
    "# you can concisely construct and execute queries like this:\n",
    "dataset().variables(\"B01001_002E\", \"B01001_026E\", \"B01001_001E\").for_((\"state\", \"*\"))()"
   ]
  },
  {
   "cell_type": "code",
   "execution_count": null,
   "metadata": {},
   "outputs": [],
   "source": [
    "# In the above examples, you still needed to know the variable codes (e.g., \"B06009_001E\" for total population) to build the query.\n",
    "# Alternatively, you can also specify variables using members of the \"Variables\" enumeration attached to each dataset!\n",
    "dataset().variables(\n",
    "    dataset.Variables.Sex_by_Age_Estimate_Total,\n",
    "    dataset.Variables.Black_or_African_American_Alone_or_in_Combination_With_One_or_More_Other_Races_Estimate_Total\n",
    "    ).for_((dataset.Geography.county, \"*\"))()\n",
    "\n",
    "# NOTE: Some datasets have tens of thousands of variables!\n",
    "# In these scenarios, autocomplete on the \"Variables\" enumeration is super helpful (VS Code, for example, also provides a fuzzy search)!\n",
    "# You can also navigate to the definition of the enumeration in your IDE to see the full list."
   ]
  },
  {
   "cell_type": "code",
   "execution_count": 2,
   "metadata": {},
   "outputs": [],
   "source": [
    "from census_products.cbp import Cbp_2022 as cbp"
   ]
  },
  {
   "cell_type": "code",
   "execution_count": 14,
   "metadata": {},
   "outputs": [],
   "source": [
    "# QUery\n",
    "df = cbp().variables(\n",
    "    cbp.Variables.All_Sectors_County_Business_Patterns_including_ZIP_Code_Business_Patterns_by_Legal_Form_of_Organization_and_Employment_Size_Class_for_the_U_S_States_and_Selected_Geographies_2022_Number_of_establishments,\n",
    "    cbp.Variables.All_Sectors_County_Business_Patterns_including_ZIP_Code_Business_Patterns_by_Legal_Form_of_Organization_and_Employment_Size_Class_for_the_U_S_States_and_Selected_Geographies_2022__017_NAICS_code,\n",
    ").for_((cbp.Geography.state, \"06\"))()\n",
    "\n",
    "# Cast types\n",
    "df[\"ESTAB\"] = df[\"ESTAB\"].astype(\"int\")\n",
    "\n",
    "# Sort by NAICS code\n",
    "df[\"NAICS Code Length\"] = df[\"NAICS2017\"].str.len()\n",
    "df.sort_values([\"NAICS Code Length\", \"NAICS2017\"], inplace=True)\n",
    "# df.drop(columns=[\"NAICS Code Length\"], inplace=True)\n",
    "\n",
    "# Map NAICS code to title\n",
    "xl_map = pd.read_excel(r\"C:\\Users\\btone\\Downloads\\2-6 digit_2022_Codes.xlsx\", dtype=\"str\")\n",
    "xl_map.drop(columns=[\"Unnamed: 3\", \"Unnamed: 4\"], inplace=True)\n",
    "xl_map = xl_map.tail(-1)\n",
    "new_rows = []\n",
    "for index, row in xl_map[xl_map[\"2022 NAICS US   Code\"].str.contains(\"-\")].iterrows():\n",
    "    start_code, end_code = map(int, row[\"2022 NAICS US   Code\"].split(\"-\"))\n",
    "    for code in range(start_code, end_code + 1):\n",
    "        new_row = row.copy()\n",
    "        new_row[\"2022 NAICS US   Code\"] = str(code)\n",
    "        new_rows.append(new_row.to_frame().T)\n",
    "x1_map = pd.concat([xl_map.copy()] + new_rows, axis=0, ignore_index=True)\n",
    "\n",
    "## Convert ranges to rows\n",
    "naics_code_to_title_map_download = dict(x1_map[x1_map.columns[-2:]].to_records(index=False).tolist())\n",
    "naics_code_to_title_map_variable = dict(cbp.Variables.All_Sectors_County_Business_Patterns_including_ZIP_Code_Business_Patterns_by_Legal_Form_of_Organization_and_Employment_Size_Class_for_the_U_S_States_and_Selected_Geographies_2022__017_NAICS_code.values[1].value_map)\n",
    "naics_code_to_title_map = naics_code_to_title_map_download | naics_code_to_title_map_variable\n",
    "df[\"2022 NAICS US Title\"] = df[\"NAICS2017\"].map(naics_code_to_title_map)\n",
    "\n",
    "# Reorder\n",
    "df = df[[\"state\", \"NAICS2017\", \"2022 NAICS US Title\", \"ESTAB\", \"NAICS Code Length\"]]"
   ]
  },
  {
   "cell_type": "code",
   "execution_count": null,
   "metadata": {},
   "outputs": [],
   "source": [
    "def compute_parent(row):\n",
    "    naics_code = row[\"NAICS2017\"]\n",
    "    parent = None\n",
    "\n",
    "    if naics_code == \"00\":\n",
    "        return row\n",
    "    elif \"-\" in naics_code:\n",
    "        # Special handling for ranges\n",
    "        row[\"P1\"] = \"00\"\n",
    "        return row\n",
    "    \n",
    "    for i in range(len(naics_code), 1, -1):\n",
    "        column = f\"P{i - 1}\"\n",
    "        row[column] = naics_code[0:i]\n",
    "\n",
    "    return row\n",
    "\n",
    "df[[\"P1\", \"P2\", \"P3\", \"P4\", \"P5\"]] = None\n",
    "df_with_parents = df.apply(compute_parent, axis=1)\n",
    "df_with_parents[[\"P1\", \"P2\", \"P3\", \"P4\", \"P5\"]] = df_with_parents[[\"P1\", \"P2\", \"P3\", \"P4\", \"P5\"]].replace(naics_code_to_title_map)\n",
    "# df_with_parents[\"Parent\"] = df_with_parents[\"Parent\"].map(naics_code_to_title_map)\n",
    "\n",
    "with pd.option_context(\"display.max_rows\", None):\n",
    "    display(df_with_parents)"
   ]
  },
  {
   "cell_type": "code",
   "execution_count": null,
   "metadata": {},
   "outputs": [],
   "source": [
    "import plotly.express as px\n",
    "\n",
    "fig = px.sunburst(df_with_parents[df_with_parents[\"P5\"].notna()], path=[\"P1\", \"P2\", \"P3\", \"P4\", \"P5\"], values=\"ESTAB\")\n",
    "fig.update_layout(\n",
    "    autosize=False,\n",
    "    width=2000,\n",
    "    height=2000,\n",
    ")\n",
    "config = {'scrollZoom': True}\n",
    "fig.show(config=config)\n",
    "# fig.write_image(\"ca_bus.png\", scale=20)"
   ]
  }
 ],
 "metadata": {
  "kernelspec": {
   "display_name": ".venv",
   "language": "python",
   "name": "python3"
  },
  "language_info": {
   "codemirror_mode": {
    "name": "ipython",
    "version": 3
   },
   "file_extension": ".py",
   "mimetype": "text/x-python",
   "name": "python",
   "nbconvert_exporter": "python",
   "pygments_lexer": "ipython3",
   "version": "3.12.5"
  }
 },
 "nbformat": 4,
 "nbformat_minor": 2
}
