{
 "cells": [
  {
   "cell_type": "code",
   "execution_count": 1,
   "metadata": {},
   "outputs": [],
   "source": [
    "from IPython.display import display\n",
    "\n",
    "from census.generator.package_builder import CensusPackageBuilder\n",
    "from census.api.urls import API_DATA_CATALOG, API_DATA_CATALOG_2022\n",
    "from census.api.models import ProjectOpenDataCatalog, Variable"
   ]
  },
  {
   "cell_type": "code",
   "execution_count": 2,
   "metadata": {},
   "outputs": [],
   "source": [
    "# Get catalog and download dataset dependencies\n",
    "catalog = ProjectOpenDataCatalog.from_url(API_DATA_CATALOG_2022)\n",
    "await catalog.get_dataset_variables_and_geography()"
   ]
  },
  {
   "cell_type": "code",
   "execution_count": 10,
   "metadata": {},
   "outputs": [],
   "source": [
    "cb = CensusPackageBuilder.from_catalog(catalog)\n",
    "cb.build_package(delete_existing=True)"
   ]
  }
 ],
 "metadata": {
  "kernelspec": {
   "display_name": ".venv",
   "language": "python",
   "name": "python3"
  },
  "language_info": {
   "codemirror_mode": {
    "name": "ipython",
    "version": 3
   },
   "file_extension": ".py",
   "mimetype": "text/x-python",
   "name": "python",
   "nbconvert_exporter": "python",
   "pygments_lexer": "ipython3",
   "version": "3.12.5"
  }
 },
 "nbformat": 4,
 "nbformat_minor": 2
}
